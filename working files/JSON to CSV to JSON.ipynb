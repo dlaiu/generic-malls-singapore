{
 "cells": [
  {
   "cell_type": "markdown",
   "id": "5da98bde-710a-4564-be3d-e742c0cbe981",
   "metadata": {},
   "source": [
    "### Start with a dict"
   ]
  },
  {
   "cell_type": "code",
   "execution_count": 23,
   "id": "7682a0da-e986-4733-b4c8-e0895ca78522",
   "metadata": {},
   "outputs": [
    {
     "data": {
      "text/plain": [
       "{'name': ['A', 'B', 'C'],\n",
       " 'stores': [['a2323sd', 'asd323', 'asdAA'],\n",
       "  ['asd432', 'asd432AA', 'asd432'],\n",
       "  ['asd12BBB3', 'asd123', 'asdBBB123']]}"
      ]
     },
     "execution_count": 23,
     "metadata": {},
     "output_type": "execute_result"
    }
   ],
   "source": [
    "original = {\n",
    "    'name': ['A', 'B', 'C'],\n",
    "    'stores':\n",
    "    [\n",
    "        ['a2323sd', 'asd323', 'asdAA'],\n",
    "        ['asd432', 'asd432AA', 'asd432'],\n",
    "        ['asd12BBB3', 'asd123', 'asdBBB123'],\n",
    "    ]\n",
    "}\n",
    "original"
   ]
  },
  {
   "cell_type": "markdown",
   "id": "4bd3558e-d5e3-4dba-a823-8f5141b80088",
   "metadata": {},
   "source": [
    "### Convert to a CSV"
   ]
  },
  {
   "cell_type": "code",
   "execution_count": 24,
   "id": "31f4b3f0-39db-4aed-b543-495d7b255fb7",
   "metadata": {},
   "outputs": [
    {
     "data": {
      "text/html": [
       "<div>\n",
       "<style scoped>\n",
       "    .dataframe tbody tr th:only-of-type {\n",
       "        vertical-align: middle;\n",
       "    }\n",
       "\n",
       "    .dataframe tbody tr th {\n",
       "        vertical-align: top;\n",
       "    }\n",
       "\n",
       "    .dataframe thead th {\n",
       "        text-align: right;\n",
       "    }\n",
       "</style>\n",
       "<table border=\"1\" class=\"dataframe\">\n",
       "  <thead>\n",
       "    <tr style=\"text-align: right;\">\n",
       "      <th></th>\n",
       "      <th>name</th>\n",
       "      <th>stores</th>\n",
       "    </tr>\n",
       "  </thead>\n",
       "  <tbody>\n",
       "    <tr>\n",
       "      <th>0</th>\n",
       "      <td>A</td>\n",
       "      <td>[a2323sd, asd323, asdAA]</td>\n",
       "    </tr>\n",
       "    <tr>\n",
       "      <th>1</th>\n",
       "      <td>B</td>\n",
       "      <td>[asd432, asd432AA, asd432]</td>\n",
       "    </tr>\n",
       "    <tr>\n",
       "      <th>2</th>\n",
       "      <td>C</td>\n",
       "      <td>[asd12BBB3, asd123, asdBBB123]</td>\n",
       "    </tr>\n",
       "  </tbody>\n",
       "</table>\n",
       "</div>"
      ],
      "text/plain": [
       "  name                          stores\n",
       "0    A        [a2323sd, asd323, asdAA]\n",
       "1    B      [asd432, asd432AA, asd432]\n",
       "2    C  [asd12BBB3, asd123, asdBBB123]"
      ]
     },
     "execution_count": 24,
     "metadata": {},
     "output_type": "execute_result"
    }
   ],
   "source": [
    "import pandas as pd\n",
    "\n",
    "df = pd.DataFrame(original)\n",
    "df"
   ]
  },
  {
   "cell_type": "code",
   "execution_count": 25,
   "id": "0989e852-274f-44e1-ac02-fac8752e6d49",
   "metadata": {},
   "outputs": [
    {
     "data": {
      "text/plain": [
       "name      object\n",
       "stores    object\n",
       "dtype: object"
      ]
     },
     "execution_count": 25,
     "metadata": {},
     "output_type": "execute_result"
    }
   ],
   "source": [
    "df.dtypes"
   ]
  },
  {
   "cell_type": "code",
   "execution_count": 33,
   "id": "39202efc-320c-4e6e-96be-33f1a9fa9584",
   "metadata": {},
   "outputs": [],
   "source": [
    "df.to_csv(\"stores.csv\", index=False)"
   ]
  },
  {
   "cell_type": "markdown",
   "id": "fdaeddb8-cd39-4377-9273-c4116e0a38a8",
   "metadata": {},
   "source": [
    "**Everything is stored as strings!!!**"
   ]
  },
  {
   "cell_type": "code",
   "execution_count": 34,
   "id": "feef6e39-f2ad-4435-beb4-68b624b49b3a",
   "metadata": {},
   "outputs": [
    {
     "name": "stdout",
     "output_type": "stream",
     "text": [
      "name,stores\n",
      "A,\"['a2323sd', 'asd323', 'asdAA']\"\n",
      "B,\"['asd432', 'asd432AA', 'asd432']\"\n",
      "C,\"['asd12BBB3', 'asd123', 'asdBBB123']\"\n"
     ]
    }
   ],
   "source": [
    "!cat stores.csv"
   ]
  },
  {
   "cell_type": "markdown",
   "id": "e48815ac-bb2b-4839-a065-7eeef8fa19a7",
   "metadata": {},
   "source": [
    "### Read it back in"
   ]
  },
  {
   "cell_type": "markdown",
   "id": "d0c89c0b-4105-403c-aea2-471c98c79309",
   "metadata": {},
   "source": [
    "It's going to read that in as a string even though we know it's a list"
   ]
  },
  {
   "cell_type": "code",
   "execution_count": 35,
   "id": "654890b2-f497-41cf-8ca1-22fd99bdae37",
   "metadata": {},
   "outputs": [],
   "source": [
    "df = pd.read_csv(\"stores.csv\")"
   ]
  },
  {
   "cell_type": "markdown",
   "id": "d2e92311-76d6-4baf-afca-720a9cb93120",
   "metadata": {},
   "source": [
    "Tell it to run the text in the `stores` column as Python code, sort of like when you use `response.json()` to convert a string of JSON into an actual object."
   ]
  },
  {
   "cell_type": "code",
   "execution_count": 36,
   "id": "d9ffe829-edf1-478a-a904-ce05a3380005",
   "metadata": {},
   "outputs": [
    {
     "data": {
      "text/plain": [
       "0          ['a2323sd', 'asd323', 'asdAA']\n",
       "1        ['asd432', 'asd432AA', 'asd432']\n",
       "2    ['asd12BBB3', 'asd123', 'asdBBB123']\n",
       "Name: stores, dtype: object"
      ]
     },
     "execution_count": 36,
     "metadata": {},
     "output_type": "execute_result"
    }
   ],
   "source": [
    "df.stores"
   ]
  },
  {
   "cell_type": "code",
   "execution_count": 37,
   "id": "2fb44c82-6131-448a-b752-0422d0c64790",
   "metadata": {},
   "outputs": [
    {
     "data": {
      "text/plain": [
       "['a2323sd', 'asd323', 'asdAA']"
      ]
     },
     "execution_count": 37,
     "metadata": {},
     "output_type": "execute_result"
    }
   ],
   "source": [
    "json.loads('[\"a2323sd\", \"asd323\", \"asdAA\"]')"
   ]
  },
  {
   "cell_type": "code",
   "execution_count": 38,
   "id": "6a6efaeb-813c-4daa-8592-240c8162435a",
   "metadata": {},
   "outputs": [],
   "source": [
    "# Convert them back into lists\n",
    "import ast\n",
    "\n",
    "df.stores = df.stores.apply(lambda text: ast.literal_eval(text))"
   ]
  },
  {
   "cell_type": "markdown",
   "id": "4ce85781-c9c8-4bca-8742-5d9f7757437c",
   "metadata": {},
   "source": [
    "And if you want it back into a json"
   ]
  },
  {
   "cell_type": "code",
   "execution_count": 39,
   "id": "2040827b-d7a5-455c-b739-3bd0c7afd857",
   "metadata": {},
   "outputs": [
    {
     "data": {
      "text/plain": [
       "[{'name': 'A', 'stores': ['a2323sd', 'asd323', 'asdAA']},\n",
       " {'name': 'B', 'stores': ['asd432', 'asd432AA', 'asd432']},\n",
       " {'name': 'C', 'stores': ['asd12BBB3', 'asd123', 'asdBBB123']}]"
      ]
     },
     "execution_count": 39,
     "metadata": {},
     "output_type": "execute_result"
    }
   ],
   "source": [
    "new_dict = df.to_dict(orient='records')\n",
    "new_dict"
   ]
  },
  {
   "cell_type": "code",
   "execution_count": null,
   "id": "6da31dac-261a-4320-8cc0-56bbde87aa3f",
   "metadata": {},
   "outputs": [],
   "source": []
  }
 ],
 "metadata": {
  "kernelspec": {
   "display_name": "Python 3 (ipykernel)",
   "language": "python",
   "name": "python3"
  },
  "language_info": {
   "codemirror_mode": {
    "name": "ipython",
    "version": 3
   },
   "file_extension": ".py",
   "mimetype": "text/x-python",
   "name": "python",
   "nbconvert_exporter": "python",
   "pygments_lexer": "ipython3",
   "version": "3.11.6"
  }
 },
 "nbformat": 4,
 "nbformat_minor": 5
}
